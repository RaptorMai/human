{
 "cells": [
  {
   "cell_type": "code",
   "execution_count": 1,
   "id": "34e4de90",
   "metadata": {
    "scrolled": true
   },
   "outputs": [],
   "source": [
    "import json\n",
    "from IPython.display import display, Image\n",
    "import ipywidgets as widgets\n",
    "from IPython.display import clear_output\n",
    "from ipywidgets import Image as WidgetImage"
   ]
  },
  {
   "cell_type": "code",
   "execution_count": 2,
   "id": "d8cda8f5",
   "metadata": {
    "scrolled": true
   },
   "outputs": [],
   "source": [
    "def load_data(filename):\n",
    "    with open(filename, 'r') as file:\n",
    "        return json.load(file)\n",
    "class label_tool():\n",
    "    def __init__(self, json_name):\n",
    "        self.current_index = 0\n",
    "        self.data = load_data(json_name) \n",
    "        self.updated_data = []\n",
    "        self.end = len(self.data)\n",
    "    def display_content(self):\n",
    "        clear_output(wait=True)\n",
    "        if self.current_index < self.end:\n",
    "            entry = self.data[self.current_index]\n",
    "\n",
    "            # Load images from files and display them side by side\n",
    "            if entry['image_1'] == entry['image_2']:\n",
    "                with open(entry['image_1'], \"rb\") as file:\n",
    "                    image_input = file.read()\n",
    "\n",
    "                box_1 = widgets.HBox([\n",
    "                    WidgetImage(value=image_input, format='png', width=800, height=800),\n",
    "                ])\n",
    "                display(box_1)\n",
    "\n",
    "            \n",
    "            else:\n",
    "                \n",
    "                with open(entry['image_1'], \"rb\") as file:\n",
    "                    image_input = file.read()\n",
    "                with open(entry['image_2'], \"rb\") as file:\n",
    "                    image_output = file.read()\n",
    "\n",
    "\n",
    "                \n",
    "                box_1 = widgets.HBox([\n",
    "                    WidgetImage(value=image_input, format='png', width=500, height=500),\n",
    "                    WidgetImage(value=image_output, format='png', width=500, height=500)\n",
    "                ])\n",
    "                display(box_1)\n",
    "\n",
    "            \n",
    "            print(entry['question'])\n",
    "            self.answer_buttons = widgets.RadioButtons(options=entry['final_option'], value=None, description='Answer:')\n",
    "            display(self.answer_buttons )\n",
    "            # Button to submit changes\n",
    "            submit_button = widgets.Button(description=\"Save Changes\")\n",
    "            \n",
    "#             # Button to double check changes\n",
    "#             check_button = widgets.Button(description=\"Checked & Save Changes\")\n",
    "            \n",
    "            def on_submit_clicked(b):\n",
    "                # Update the entry with the new GPT_option and save it to the updated_data list\n",
    "                \n",
    "                entry['human_answer'] = self.answer_buttons.value\n",
    "\n",
    "                    \n",
    "                self.updated_data.append(entry)\n",
    "                self.current_index += 1\n",
    "                clear_output(wait=True)\n",
    "                self.display_content()  # Display the \"Show Next\" button again\n",
    "                \n",
    "\n",
    "            submit_button.on_click(on_submit_clicked)\n",
    "#             def back_function(button):\n",
    "#                 self.updated_data.pop()\n",
    "#                 print('remove last pair')\n",
    "#             back_buttons = widgets.Button(description=\"Back\")\n",
    "#             back_buttons.on_click(back_function)\n",
    "#             display(back_buttons)\n",
    "            display(submit_button)\n",
    "        else:\n",
    "            print(\"No more entries to display. Please call save_updated_data() to save results.\")\n",
    "    \n",
    "    def save_updated_data(self):\n",
    "        with open(f'{self.human_name.value}.json', 'w') as file:\n",
    "            json.dump(self.updated_data, file)\n",
    "            \n",
    "    def display_next_button(self):\n",
    "        self.human_name = widgets.Text(description=\"Your name:\", layout={'width': 'auto'})\n",
    "        \n",
    "        next_button = widgets.Button(description=\"Show Next\")\n",
    "        next_button.on_click(lambda b: self.display_content())\n",
    "        display(self.human_name, next_button)"
   ]
  },
  {
   "cell_type": "code",
   "execution_count": 3,
   "id": "36101b50",
   "metadata": {
    "scrolled": true
   },
   "outputs": [],
   "source": [
    "labeler = label_tool('human_eval_10.json')"
   ]
  },
  {
   "cell_type": "code",
   "execution_count": 5,
   "id": "fb29834d",
   "metadata": {
    "collapsed": true
   },
   "outputs": [
    {
     "data": {
      "application/vnd.jupyter.widget-view+json": {
       "model_id": "943ff1a712e84e469205569a3e8e83b2",
       "version_major": 2,
       "version_minor": 0
      },
      "text/plain": [
       "HBox(children=(Image(value=b'\\xff\\xd8\\xff\\xe0\\x00\\x10JFIF\\x00\\x01\\x01\\x00\\x00\\x01\\x00\\x01\\x00\\x00\\xff\\xdb\\x00C…"
      ]
     },
     "metadata": {},
     "output_type": "display_data"
    },
    {
     "name": "stdout",
     "output_type": "stream",
     "text": [
      "Which person smiles more?\n"
     ]
    },
    {
     "data": {
      "application/vnd.jupyter.widget-view+json": {
       "model_id": "7e145848fe194a7bab77d7de1be4bb5e",
       "version_major": 2,
       "version_minor": 0
      },
      "text/plain": [
       "RadioButtons(description='Answer:', options=('Left', 'Right'), value=None)"
      ]
     },
     "metadata": {},
     "output_type": "display_data"
    },
    {
     "data": {
      "application/vnd.jupyter.widget-view+json": {
       "model_id": "321570fb16e3410eb77ccebf0dd880a2",
       "version_major": 2,
       "version_minor": 0
      },
      "text/plain": [
       "Button(description='Save Changes', style=ButtonStyle())"
      ]
     },
     "metadata": {},
     "output_type": "display_data"
    }
   ],
   "source": [
    "labeler.display_next_button()"
   ]
  },
  {
   "cell_type": "code",
   "execution_count": 5,
   "id": "d44e6596",
   "metadata": {
    "scrolled": true
   },
   "outputs": [],
   "source": [
    "labeler.save_updated_data()"
   ]
  },
  {
   "cell_type": "code",
   "execution_count": null,
   "id": "713ef3f4",
   "metadata": {
    "collapsed": true,
    "scrolled": true
   },
   "outputs": [],
   "source": []
  },
  {
   "cell_type": "code",
   "execution_count": null,
   "id": "92f36bef",
   "metadata": {
    "collapsed": true,
    "scrolled": true
   },
   "outputs": [],
   "source": []
  },
  {
   "cell_type": "code",
   "execution_count": null,
   "id": "562e5486",
   "metadata": {
    "collapsed": true,
    "scrolled": true
   },
   "outputs": [],
   "source": []
  },
  {
   "cell_type": "code",
   "execution_count": null,
   "id": "e35249bf",
   "metadata": {
    "collapsed": true,
    "scrolled": true
   },
   "outputs": [],
   "source": []
  },
  {
   "cell_type": "code",
   "execution_count": null,
   "id": "50506dd0",
   "metadata": {
    "collapsed": true,
    "scrolled": true
   },
   "outputs": [],
   "source": []
  },
  {
   "cell_type": "code",
   "execution_count": null,
   "id": "d5786cd5",
   "metadata": {
    "collapsed": true,
    "scrolled": true
   },
   "outputs": [],
   "source": []
  },
  {
   "cell_type": "code",
   "execution_count": null,
   "id": "2f12836c",
   "metadata": {
    "collapsed": true,
    "scrolled": true
   },
   "outputs": [],
   "source": []
  },
  {
   "cell_type": "code",
   "execution_count": null,
   "id": "aa3351ef",
   "metadata": {
    "collapsed": true,
    "scrolled": true
   },
   "outputs": [],
   "source": []
  },
  {
   "cell_type": "code",
   "execution_count": null,
   "id": "2ab5429a",
   "metadata": {
    "collapsed": true,
    "scrolled": true
   },
   "outputs": [],
   "source": []
  },
  {
   "cell_type": "code",
   "execution_count": null,
   "id": "8169bda6",
   "metadata": {
    "collapsed": true,
    "scrolled": true
   },
   "outputs": [],
   "source": []
  },
  {
   "cell_type": "code",
   "execution_count": null,
   "id": "988b3384",
   "metadata": {
    "collapsed": true,
    "scrolled": true
   },
   "outputs": [],
   "source": []
  }
 ],
 "metadata": {
  "kernelspec": {
   "display_name": "vl_eval",
   "language": "python",
   "name": "python3"
  },
  "language_info": {
   "codemirror_mode": {
    "name": "ipython",
    "version": 3
   },
   "file_extension": ".py",
   "mimetype": "text/x-python",
   "name": "python",
   "nbconvert_exporter": "python",
   "pygments_lexer": "ipython3",
   "version": "3.10.14"
  }
 },
 "nbformat": 4,
 "nbformat_minor": 5
}
